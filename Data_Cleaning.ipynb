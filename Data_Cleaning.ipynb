{
 "cells": [
  {
   "cell_type": "markdown",
   "metadata": {
    "collapsed": true,
    "pycharm": {
     "name": "#%% md\n"
    }
   },
   "source": [
    "# Limpando Dataset\n",
    "\n",
    "Uma vez das posse dos dados precisamos garantir que eles estejam em um formato no qual nos podemos usar para criar modelos de aprendizado de máquina. A maioria dos modelos da biblioteca *sciki-learn* requer que nossa variaveis (*features*) sejam numericas (inteiras ou pontos flutuantes). Alem disso, muitos modelos falham quando recebem valores ausentes (NaN no pandas ou numpy). \n",
    "\n",
    "Nosso objetivo nesse notebook será conhecer o conjunto de dados que vamos trabalhar e verificar como está sua estrutura antes de analisarmos os dados respondendo algumas perguntas como:\n",
    "\n",
    "* Os tipos dos dados fazem sentido em relação a sua variável?\n",
    "* Nosso conjunto de dados apresenta valores ausentes, caso sim como lidar?\n",
    "* Existem valores discrepantes?\n",
    "\n",
    "A limpeza dos dados, em alguns casos, pode tomar bastante tempo mas é uma parte fundamental para análise exploratória de dados. "
   ]
  },
  {
   "cell_type": "markdown",
   "metadata": {
    "pycharm": {
     "name": "#%%\n"
    }
   },
   "source": [
    "Valores Ausentes\n",
    "Um passo importante na análise de dados é verificação de dados ausentes, isso porque a qualidade de um conjunto de dados está diretamente relacionada à quantidade de valores ausentes. É importante entender logo no início se esses valores nulos são significativos comparados ao total de entradas. Caso eles sejam significativos será necessário um tratamento nos dados antes de realizarmos nossas análises"
   ]
  },
  {
   "cell_type": "code",
   "execution_count": null,
   "metadata": {},
   "outputs": [],
   "source": []
  }
 ],
 "metadata": {
  "kernelspec": {
   "display_name": "Python 3",
   "language": "python",
   "name": "python3"
  },
  "language_info": {
   "codemirror_mode": {
    "name": "ipython",
    "version": 3
   },
   "file_extension": ".py",
   "mimetype": "text/x-python",
   "name": "python",
   "nbconvert_exporter": "python",
   "pygments_lexer": "ipython3",
   "version": "3.7.9"
  }
 },
 "nbformat": 4,
 "nbformat_minor": 1
}
